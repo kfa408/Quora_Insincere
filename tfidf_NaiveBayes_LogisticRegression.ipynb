{
 "cells": [
  {
   "cell_type": "markdown",
   "metadata": {
    "slideshow": {
     "slide_type": "slide"
    }
   },
   "source": [
    "# Quora Insincere Question Detection"
   ]
  },
  {
   "cell_type": "code",
   "execution_count": 1,
   "metadata": {
    "slideshow": {
     "slide_type": "skip"
    }
   },
   "outputs": [],
   "source": [
    "import os\n",
    "import re\n",
    "import string\n",
    "import time\n",
    "import numpy as np\n",
    "import pandas as pd\n",
    "from scipy.sparse import csr_matrix\n",
    "from contextlib import contextmanager\n",
    "from sklearn.base import BaseEstimator, TransformerMixin\n",
    "from sklearn.linear_model import LogisticRegression\n",
    "from sklearn.feature_extraction.text import TfidfVectorizer\n",
    "from sklearn.model_selection import GridSearchCV, StratifiedKFold\n",
    "from sklearn.metrics import f1_score, roc_auc_score"
   ]
  },
  {
   "cell_type": "code",
   "execution_count": 3,
   "metadata": {
    "slideshow": {
     "slide_type": "skip"
    }
   },
   "outputs": [],
   "source": [
    "TOKENIZER = re.compile('([{string.punctuation}“”¨«»®´·º½¾¿¡§£₤‘’])')"
   ]
  },
  {
   "cell_type": "code",
   "execution_count": 13,
   "metadata": {
    "slideshow": {
     "slide_type": "skip"
    }
   },
   "outputs": [],
   "source": [
    "DATA_SPLIT_SEED = 42"
   ]
  },
  {
   "cell_type": "code",
   "execution_count": 4,
   "metadata": {
    "slideshow": {
     "slide_type": "skip"
    }
   },
   "outputs": [],
   "source": [
    "@contextmanager\n",
    "def timer(task_name=\"timer\"):\n",
    "    # a timer cm from https://www.kaggle.com/lopuhin/mercari-golf-0-3875-cv-in-75-loc-1900-s\n",
    "    print(\"----{} started\".format(task_name))\n",
    "    t0 = time.time()\n",
    "    yield\n",
    "    print(\"----{} done in {:.0f} seconds\".format(task_name, time.time() - t0))"
   ]
  },
  {
   "cell_type": "code",
   "execution_count": 5,
   "metadata": {
    "slideshow": {
     "slide_type": "skip"
    }
   },
   "outputs": [],
   "source": [
    "def tokenize(s):\n",
    "    return TOKENIZER.sub(r' \\1 ', s).split()"
   ]
  },
  {
   "cell_type": "code",
   "execution_count": 6,
   "metadata": {
    "slideshow": {
     "slide_type": "skip"
    }
   },
   "outputs": [],
   "source": [
    "class NBTransformer(BaseEstimator, TransformerMixin):\n",
    "    def __init__(self, alpha=1):\n",
    "        self.r = None\n",
    "        self.alpha = alpha\n",
    "\n",
    "    def fit(self, X, y):\n",
    "        # store smoothed log count ratio\n",
    "        p = self.alpha + X[y==1].sum(0)\n",
    "        q = self.alpha + X[y==0].sum(0)\n",
    "        self.r = csr_matrix(np.log(\n",
    "            (p / (self.alpha + (y==1).sum())) /\n",
    "            (q / (self.alpha + (y==0).sum()))\n",
    "        ))\n",
    "        return self\n",
    "\n",
    "    def transform(self, X, y=None):\n",
    "        return X.multiply(self.r)"
   ]
  },
  {
   "cell_type": "code",
   "execution_count": 7,
   "metadata": {
    "slideshow": {
     "slide_type": "skip"
    }
   },
   "outputs": [],
   "source": [
    "def threshold_search(y_true, y_proba):\n",
    "    best_threshold = 0\n",
    "    best_score = 0\n",
    "    for threshold in [i * 0.01 for i in range(100)]:\n",
    "        score = f1_score(y_true=y_true, y_pred=y_proba > threshold)\n",
    "        if score > best_score:\n",
    "            best_threshold = threshold\n",
    "            best_score = score\n",
    "    search_result = {'threshold': best_threshold, 'f1': best_score}\n",
    "    return search_result"
   ]
  },
  {
   "cell_type": "code",
   "execution_count": 9,
   "metadata": {
    "slideshow": {
     "slide_type": "skip"
    }
   },
   "outputs": [
    {
     "name": "stdout",
     "output_type": "stream",
     "text": [
      "----reading_data started\n",
      "----reading_data done in 3 seconds\n"
     ]
    }
   ],
   "source": [
    "with timer(\"reading_data\"):\n",
    "    train = pd.read_csv(\"train.csv\")\n",
    "    test = pd.read_csv('test.csv')\n",
    "#     sub = pd.read_csv('../input/sample_submission.csv')\n",
    "    y = train.target.values"
   ]
  },
  {
   "cell_type": "markdown",
   "metadata": {
    "slideshow": {
     "slide_type": "slide"
    }
   },
   "source": [
    "## What does the data look like?"
   ]
  },
  {
   "cell_type": "code",
   "execution_count": 48,
   "metadata": {
    "slideshow": {
     "slide_type": "subslide"
    }
   },
   "outputs": [
    {
     "name": "stdout",
     "output_type": "stream",
     "text": [
      "0    1225312\n",
      "1      80810\n",
      "Name: target, dtype: int64\n",
      "(1306122, 3)\n"
     ]
    },
    {
     "data": {
      "text/html": [
       "<div>\n",
       "<style scoped>\n",
       "    .dataframe tbody tr th:only-of-type {\n",
       "        vertical-align: middle;\n",
       "    }\n",
       "\n",
       "    .dataframe tbody tr th {\n",
       "        vertical-align: top;\n",
       "    }\n",
       "\n",
       "    .dataframe thead th {\n",
       "        text-align: right;\n",
       "    }\n",
       "</style>\n",
       "<table border=\"1\" class=\"dataframe\">\n",
       "  <thead>\n",
       "    <tr style=\"text-align: right;\">\n",
       "      <th></th>\n",
       "      <th>qid</th>\n",
       "      <th>question_text</th>\n",
       "      <th>target</th>\n",
       "    </tr>\n",
       "  </thead>\n",
       "  <tbody>\n",
       "    <tr>\n",
       "      <th>0</th>\n",
       "      <td>00002165364db923c7e6</td>\n",
       "      <td>How did Quebec nationalists see their province...</td>\n",
       "      <td>0</td>\n",
       "    </tr>\n",
       "    <tr>\n",
       "      <th>1</th>\n",
       "      <td>000032939017120e6e44</td>\n",
       "      <td>Do you have an adopted dog, how would you enco...</td>\n",
       "      <td>0</td>\n",
       "    </tr>\n",
       "    <tr>\n",
       "      <th>2</th>\n",
       "      <td>0000412ca6e4628ce2cf</td>\n",
       "      <td>Why does velocity affect time? Does velocity a...</td>\n",
       "      <td>0</td>\n",
       "    </tr>\n",
       "    <tr>\n",
       "      <th>3</th>\n",
       "      <td>000042bf85aa498cd78e</td>\n",
       "      <td>How did Otto von Guericke used the Magdeburg h...</td>\n",
       "      <td>0</td>\n",
       "    </tr>\n",
       "    <tr>\n",
       "      <th>4</th>\n",
       "      <td>0000455dfa3e01eae3af</td>\n",
       "      <td>Can I convert montra helicon D to a mountain b...</td>\n",
       "      <td>0</td>\n",
       "    </tr>\n",
       "  </tbody>\n",
       "</table>\n",
       "</div>"
      ],
      "text/plain": [
       "                    qid                                      question_text  \\\n",
       "0  00002165364db923c7e6  How did Quebec nationalists see their province...   \n",
       "1  000032939017120e6e44  Do you have an adopted dog, how would you enco...   \n",
       "2  0000412ca6e4628ce2cf  Why does velocity affect time? Does velocity a...   \n",
       "3  000042bf85aa498cd78e  How did Otto von Guericke used the Magdeburg h...   \n",
       "4  0000455dfa3e01eae3af  Can I convert montra helicon D to a mountain b...   \n",
       "\n",
       "   target  \n",
       "0       0  \n",
       "1       0  \n",
       "2       0  \n",
       "3       0  \n",
       "4       0  "
      ]
     },
     "execution_count": 48,
     "metadata": {},
     "output_type": "execute_result"
    }
   ],
   "source": [
    "print(train['target'].value_counts())\n",
    "print(train.shape)\n",
    "train.head()"
   ]
  },
  {
   "cell_type": "markdown",
   "metadata": {
    "slideshow": {
     "slide_type": "slide"
    }
   },
   "source": [
    "## Use tfidf to transform the question_text into vectors\n",
    "- Changing strings to vectors of size #types"
   ]
  },
  {
   "cell_type": "code",
   "execution_count": 10,
   "metadata": {
    "slideshow": {
     "slide_type": "subslide"
    }
   },
   "outputs": [
    {
     "name": "stdout",
     "output_type": "stream",
     "text": [
      "----getting ngram tfidf started\n"
     ]
    },
    {
     "name": "stderr",
     "output_type": "stream",
     "text": [
      "/Users/fanggot/anaconda/lib/python3.5/site-packages/sklearn/feature_extraction/text.py:1059: FutureWarning: Conversion of the second argument of issubdtype from `float` to `np.floating` is deprecated. In future, it will be treated as `np.float64 == np.dtype(float).type`.\n",
      "  if hasattr(X, 'dtype') and np.issubdtype(X.dtype, np.float):\n"
     ]
    },
    {
     "name": "stdout",
     "output_type": "stream",
     "text": [
      "----getting ngram tfidf done in 1373 seconds\n"
     ]
    }
   ],
   "source": [
    "with timer(\"getting ngram tfidf\"):\n",
    "    tfidf_vectorizer = TfidfVectorizer(\n",
    "        ngram_range=(1,4),\n",
    "        tokenizer=tokenize,\n",
    "        min_df=3,\n",
    "        max_df=0.9,\n",
    "        strip_accents='unicode',\n",
    "        use_idf=True,\n",
    "        smooth_idf=True,\n",
    "        sublinear_tf=True\n",
    "    ).fit(pd.concat([train['question_text'], test['question_text']]))\n",
    "    X = tfidf_vectorizer.transform(train['question_text'])\n",
    "    X_test = tfidf_vectorizer.transform(test['question_text'])\n"
   ]
  },
  {
   "cell_type": "markdown",
   "metadata": {
    "slideshow": {
     "slide_type": "slide"
    }
   },
   "source": [
    "## Put the result of tfidf through Naive Bayes featurizer"
   ]
  },
  {
   "cell_type": "code",
   "execution_count": 11,
   "metadata": {
    "slideshow": {
     "slide_type": "subslide"
    }
   },
   "outputs": [
    {
     "name": "stdout",
     "output_type": "stream",
     "text": [
      "----get Naive Bayes feature started\n",
      "----get Naive Bayes feature done in 85 seconds\n"
     ]
    }
   ],
   "source": [
    "with timer(\"get Naive Bayes feature\"):\n",
    "    nb_transformer = NBTransformer(alpha=1).fit(X, y)\n",
    "    X_nb = nb_transformer.transform(X)\n",
    "    X_test_nb = nb_transformer.transform(X_test)"
   ]
  },
  {
   "cell_type": "markdown",
   "metadata": {
    "slideshow": {
     "slide_type": "slide"
    }
   },
   "source": [
    "## Using 20-fold crossvalidation, train logistic regression model."
   ]
  },
  {
   "cell_type": "code",
   "execution_count": 14,
   "metadata": {
    "slideshow": {
     "slide_type": "skip"
    }
   },
   "outputs": [
    {
     "name": "stdout",
     "output_type": "stream",
     "text": [
      "----fitting on 0th split started\n",
      "----fitting on 0th split done in 175 seconds\n",
      "----fitting on 1th split started\n",
      "----fitting on 1th split done in 155 seconds\n",
      "----fitting on 2th split started\n",
      "----fitting on 2th split done in 184 seconds\n",
      "----fitting on 3th split started\n",
      "----fitting on 3th split done in 149 seconds\n",
      "----fitting on 4th split started\n",
      "----fitting on 4th split done in 138 seconds\n",
      "----fitting on 5th split started\n",
      "----fitting on 5th split done in 147 seconds\n",
      "----fitting on 6th split started\n",
      "----fitting on 6th split done in 146 seconds\n",
      "----fitting on 7th split started\n",
      "----fitting on 7th split done in 144 seconds\n",
      "----fitting on 8th split started\n",
      "----fitting on 8th split done in 164 seconds\n",
      "----fitting on 9th split started\n",
      "----fitting on 9th split done in 140 seconds\n",
      "----fitting on 10th split started\n",
      "----fitting on 10th split done in 138 seconds\n",
      "----fitting on 11th split started\n",
      "----fitting on 11th split done in 152 seconds\n",
      "----fitting on 12th split started\n",
      "----fitting on 12th split done in 169 seconds\n",
      "----fitting on 13th split started\n",
      "----fitting on 13th split done in 207 seconds\n",
      "----fitting on 14th split started\n",
      "----fitting on 14th split done in 156 seconds\n",
      "----fitting on 15th split started\n",
      "----fitting on 15th split done in 182 seconds\n",
      "----fitting on 16th split started\n",
      "----fitting on 16th split done in 135 seconds\n",
      "----fitting on 17th split started\n",
      "----fitting on 17th split done in 154 seconds\n",
      "----fitting on 18th split started\n",
      "----fitting on 18th split done in 154 seconds\n",
      "----fitting on 19th split started\n",
      "----fitting on 19th split done in 143 seconds\n",
      "0.9549509171769656\n",
      "{'threshold': 0.8, 'f1': 0.6271095949690059}\n"
     ]
    }
   ],
   "source": [
    "models = []\n",
    "train_meta = np.zeros(y.shape)\n",
    "test_meta = np.zeros(X_test.shape[0])\n",
    "splits = list(StratifiedKFold(n_splits=20, shuffle=True, random_state=DATA_SPLIT_SEED).split(train, y))\n",
    "for idx, (train_idx, valid_idx) in enumerate(splits):\n",
    "    with timer(\"fitting on {}th split\".format(idx)):\n",
    "        X_train = X_nb[train_idx]\n",
    "        y_train = y[train_idx]\n",
    "        X_val = X_nb[valid_idx]\n",
    "        y_val = y[valid_idx]\n",
    "        model = LogisticRegression(solver='lbfgs', dual=False, class_weight='balanced', C=0.5, max_iter=40)\n",
    "        model.fit(X_train, y_train)\n",
    "        models.append(model)\n",
    "        valid_pred = model.predict_proba(X_val)\n",
    "        train_meta[valid_idx] = valid_pred[:,1]\n",
    "        test_meta += model.predict_proba(X_test_nb)[:,1] / len(splits)\n",
    "\n",
    "print(roc_auc_score(y, train_meta))\n",
    "search_result = threshold_search(y, train_meta)\n",
    "print(search_result)"
   ]
  },
  {
   "cell_type": "code",
   "execution_count": 32,
   "metadata": {
    "slideshow": {
     "slide_type": "skip"
    }
   },
   "outputs": [],
   "source": [
    "from sklearn import metrics\n",
    "import matplotlib.pyplot as plt\n",
    "from matplotlib.pyplot import show"
   ]
  },
  {
   "cell_type": "markdown",
   "metadata": {
    "slideshow": {
     "slide_type": "slide"
    }
   },
   "source": [
    "## Results"
   ]
  },
  {
   "cell_type": "markdown",
   "metadata": {
    "slideshow": {
     "slide_type": "slide"
    }
   },
   "source": [
    "### Precision Recall Curve"
   ]
  },
  {
   "cell_type": "code",
   "execution_count": 33,
   "metadata": {
    "slideshow": {
     "slide_type": "subslide"
    }
   },
   "outputs": [
    {
     "data": {
      "image/png": "[encoded data removed]",
      "text/plain": [
       "<matplotlib.figure.Figure at 0x1a28f080b8>"
      ]
     },
     "metadata": {
      "needs_background": "light"
     },
     "output_type": "display_data"
    }
   ],
   "source": [
    "precision, recall, threshold = metrics.precision_recall_curve(y, train_meta)\n",
    "fig, ax = plt.subplots(figsize=(8,8))\n",
    "ax.plot(recall, precision, marker = 'o', markersize=5)\n",
    "show()"
   ]
  },
  {
   "cell_type": "code",
   "execution_count": 37,
   "metadata": {
    "slideshow": {
     "slide_type": "skip"
    }
   },
   "outputs": [],
   "source": [
    "pred_class = [1 if i > 0.8 else 0 for i in train_meta]"
   ]
  },
  {
   "cell_type": "code",
   "execution_count": 40,
   "metadata": {
    "slideshow": {
     "slide_type": "skip"
    }
   },
   "outputs": [],
   "source": [
    "from sklearn.metrics import confusion_matrix\n",
    "from sklearn.metrics import recall_score, precision_score, f1_score, auc"
   ]
  },
  {
   "cell_type": "markdown",
   "metadata": {
    "slideshow": {
     "slide_type": "slide"
    }
   },
   "source": [
    "### Confusion Matrix"
   ]
  },
  {
   "cell_type": "code",
   "execution_count": 41,
   "metadata": {
    "slideshow": {
     "slide_type": "subslide"
    }
   },
   "outputs": [
    {
     "data": {
      "text/plain": [
       "array([[1183978,   41334],\n",
       "       [  25017,   55793]])"
      ]
     },
     "execution_count": 41,
     "metadata": {},
     "output_type": "execute_result"
    }
   ],
   "source": [
    "confusion_matrix(y, pred_class)"
   ]
  },
  {
   "cell_type": "markdown",
   "metadata": {
    "slideshow": {
     "slide_type": "slide"
    }
   },
   "source": [
    "### Precision, Recall, and f1"
   ]
  },
  {
   "cell_type": "code",
   "execution_count": 42,
   "metadata": {
    "slideshow": {
     "slide_type": "subslide"
    }
   },
   "outputs": [
    {
     "name": "stdout",
     "output_type": "stream",
     "text": [
      "0.5744334736993832\n",
      "0.6904219774780349\n",
      "0.6271095949690059\n"
     ]
    }
   ],
   "source": [
    "print(precision_score(y, pred_class))\n",
    "print(recall_score(y, pred_class))\n",
    "print(f1_score(y, pred_class))"
   ]
  },
  {
   "cell_type": "code",
   "execution_count": null,
   "metadata": {},
   "outputs": [],
   "source": []
  }
 ],
 "metadata": {
  "celltoolbar": "Slideshow",
  "kernelspec": {
   "display_name": "Python [default]",
   "language": "python",
   "name": "python3"
  },
  "language_info": {
   "codemirror_mode": {
    "name": "ipython",
    "version": 3
   },
   "file_extension": ".py",
   "mimetype": "text/x-python",
   "name": "python",
   "nbconvert_exporter": "python",
   "pygments_lexer": "ipython3",
   "version": "3.5.6"
  }
 },
 "nbformat": 4,
 "nbformat_minor": 2
}
